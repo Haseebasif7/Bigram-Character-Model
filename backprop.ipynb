{
 "cells": [
  {
   "cell_type": "code",
   "execution_count": 1,
   "id": "800f006d",
   "metadata": {},
   "outputs": [],
   "source": [
    "import torch\n",
    "import torch.nn.functional as F\n",
    "import matplotlib.pyplot as plt # for making figures\n",
    "%matplotlib inline"
   ]
  },
  {
   "cell_type": "code",
   "execution_count": 2,
   "id": "f276dcb0",
   "metadata": {},
   "outputs": [
    {
     "data": {
      "text/plain": [
       "['emma', 'olivia', 'ava', 'isabella', 'sophia', 'charlotte', 'mia', 'amelia']"
      ]
     },
     "execution_count": 2,
     "metadata": {},
     "output_type": "execute_result"
    }
   ],
   "source": [
    "words = open('names.txt', 'r').read().splitlines()\n",
    "words[:8]"
   ]
  },
  {
   "cell_type": "code",
   "execution_count": 3,
   "id": "5cab516b",
   "metadata": {},
   "outputs": [
    {
     "name": "stdout",
     "output_type": "stream",
     "text": [
      "{1: 'a', 2: 'b', 3: 'c', 4: 'd', 5: 'e', 6: 'f', 7: 'g', 8: 'h', 9: 'i', 10: 'j', 11: 'k', 12: 'l', 13: 'm', 14: 'n', 15: 'o', 16: 'p', 17: 'q', 18: 'r', 19: 's', 20: 't', 21: 'u', 22: 'v', 23: 'w', 24: 'x', 25: 'y', 26: 'z', 0: '.'}\n",
      "27\n"
     ]
    }
   ],
   "source": [
    "# build the vocabulary of characters and mappings to/from integers\n",
    "chars = sorted(list(set(''.join(words))))\n",
    "stoi = {s:i+1 for i,s in enumerate(chars)}\n",
    "stoi['.'] = 0\n",
    "itos = {i:s for s,i in stoi.items()}\n",
    "vocab_size = len(itos)\n",
    "print(itos)\n",
    "print(vocab_size)"
   ]
  },
  {
   "cell_type": "code",
   "execution_count": 4,
   "id": "dc9311ef",
   "metadata": {},
   "outputs": [
    {
     "name": "stdout",
     "output_type": "stream",
     "text": [
      "torch.Size([182625, 3]) torch.Size([182625])\n",
      "torch.Size([22655, 3]) torch.Size([22655])\n",
      "torch.Size([22866, 3]) torch.Size([22866])\n"
     ]
    }
   ],
   "source": [
    "# build the dataset\n",
    "block_size = 3 # context length: how many characters do we take to predict the next one?\n",
    "\n",
    "def build_dataset(words):  \n",
    "  X, Y = [], []\n",
    "  \n",
    "  for w in words:\n",
    "    context = [0] * block_size\n",
    "    for ch in w + '.':\n",
    "      ix = stoi[ch]\n",
    "      X.append(context)\n",
    "      Y.append(ix)\n",
    "      context = context[1:] + [ix] # crop and append\n",
    "\n",
    "  X = torch.tensor(X)\n",
    "  Y = torch.tensor(Y)\n",
    "  print(X.shape, Y.shape)\n",
    "  return X, Y\n",
    "\n",
    "import random\n",
    "random.seed(42)\n",
    "random.shuffle(words)\n",
    "n1 = int(0.8*len(words))\n",
    "n2 = int(0.9*len(words))\n",
    "\n",
    "Xtr,  Ytr  = build_dataset(words[:n1])     # 80%\n",
    "Xdev, Ydev = build_dataset(words[n1:n2])   # 10%\n",
    "Xte,  Yte  = build_dataset(words[n2:])     # 10%\n"
   ]
  },
  {
   "cell_type": "code",
   "execution_count": 5,
   "id": "cb8ab5dd",
   "metadata": {},
   "outputs": [],
   "source": [
    "# utility function we will use later when comparing manual gradients to PyTorch gradients\n",
    "def cmp(s, dt, t):\n",
    "  ex = torch.all(dt == t.grad).item()\n",
    "  app = torch.allclose(dt, t.grad)\n",
    "  maxdiff = (dt - t.grad).abs().max().item()\n",
    "  print(f'{s:15s} | exact: {str(ex):5s} | approximate: {str(app):5s} | maxdiff: {maxdiff}')"
   ]
  },
  {
   "cell_type": "code",
   "execution_count": 6,
   "id": "53b7140d",
   "metadata": {},
   "outputs": [
    {
     "name": "stdout",
     "output_type": "stream",
     "text": [
      "4137\n"
     ]
    }
   ],
   "source": [
    "n_embd = 10 # the dimensionality of the character embedding vectors\n",
    "n_hidden = 64 # the number of neurons in the hidden layer of the MLP\n",
    "\n",
    "g = torch.Generator().manual_seed(2147483647) # for reproducibility\n",
    "C  = torch.randn((vocab_size, n_embd),            generator=g)\n",
    "# Layer 1\n",
    "W1 = torch.randn((n_embd * block_size, n_hidden), generator=g) * (5/3)/((n_embd * block_size)**0.5)\n",
    "b1 = torch.randn(n_hidden,                        generator=g) * 0.1 # using b1 just for fun, it's useless because of BN\n",
    "# Layer 2\n",
    "W2 = torch.randn((n_hidden, vocab_size),          generator=g) * 0.1\n",
    "b2 = torch.randn(vocab_size,                      generator=g) * 0.1\n",
    "# BatchNorm parameters\n",
    "bngain = torch.randn((1, n_hidden))*0.1 + 1.0\n",
    "bnbias = torch.randn((1, n_hidden))*0.1\n",
    "\n",
    "# Note: I am initializating many of these parameters in non-standard ways\n",
    "# because sometimes initializating with e.g. all zeros could mask an incorrect\n",
    "# implementation of the backward pass.\n",
    "\n",
    "parameters = [C, W1, b1, W2, b2, bngain, bnbias]\n",
    "print(sum(p.nelement() for p in parameters)) # number of parameters in total\n",
    "for p in parameters:\n",
    "  p.requires_grad = True"
   ]
  },
  {
   "cell_type": "code",
   "execution_count": 7,
   "id": "f214347f",
   "metadata": {},
   "outputs": [],
   "source": [
    "batch_size = 32\n",
    "n = batch_size\n",
    "# construct a minibatch\n",
    "ix = torch.randint(0, Xtr.shape[0], (batch_size,), generator=g)\n",
    "Xb, Yb = Xtr[ix], Ytr[ix] # batch X,Y"
   ]
  },
  {
   "cell_type": "code",
   "execution_count": 8,
   "id": "9033031a",
   "metadata": {},
   "outputs": [
    {
     "data": {
      "text/plain": [
       "tensor(3.3377, grad_fn=<NegBackward0>)"
      ]
     },
     "execution_count": 8,
     "metadata": {},
     "output_type": "execute_result"
    }
   ],
   "source": [
    "# forward pass, \"chunkated\" into smaller steps that are possible to backward one at a time\n",
    "\n",
    "emb = C[Xb] # embed the characters into vectors\n",
    "embcat = emb.view(emb.shape[0], -1) # concatenate the vectors\n",
    "# Linear layer 1\n",
    "hprebn = embcat @ W1 + b1 # hidden layer pre-activation\n",
    "# BatchNorm layer\n",
    "bnmeani = 1/n * hprebn.sum(0, keepdim=True)\n",
    "bndiff = hprebn - bnmeani\n",
    "bndiff2 = bndiff**2\n",
    "bnvar = 1/(n-1) * (bndiff2).sum(0, keepdim=True) # note: Bessel's correction (dividing by n-1, not n)\n",
    "bnvar_inv = (bnvar + 1e-5)**-0.5\n",
    "bnraw = bndiff * bnvar_inv\n",
    "hpreact = bngain * bnraw + bnbias\n",
    "# Non-linearity\n",
    "h = torch.tanh(hpreact) # hidden layer\n",
    "# Linear layer 2\n",
    "logits = h @ W2 + b2 # output layer\n",
    "# cross entropy loss (same as F.cross_entropy(logits, Yb))\n",
    "logit_maxes = logits.max(1, keepdim=True).values\n",
    "norm_logits = logits- logit_maxes # subtract max for numerical stability\n",
    "counts = norm_logits.exp()\n",
    "counts_sum = counts.sum(1, keepdims=True)\n",
    "counts_sum_inv = counts_sum**-1 # if I use (1.0 / counts_sum) instead then I can't get backprop to be bit exact...\n",
    "probs = counts * counts_sum_inv\n",
    "logprobs = probs.log()\n",
    "loss = -logprobs[range(n), Yb].mean()\n",
    "\n",
    "# PyTorch backward pass\n",
    "for p in parameters:\n",
    "  p.grad = None\n",
    "for t in [logprobs, probs, counts, counts_sum, counts_sum_inv, # afaik there is no cleaner way\n",
    "          norm_logits, logit_maxes, logits, h, hpreact, bnraw,\n",
    "         bnvar_inv, bnvar, bndiff2, bndiff, hprebn, bnmeani,\n",
    "         embcat, emb]:\n",
    "  t.retain_grad()\n",
    "loss.backward()\n",
    "loss"
   ]
  },
  {
   "cell_type": "code",
   "execution_count": 64,
   "id": "4578d520",
   "metadata": {},
   "outputs": [
    {
     "data": {
      "text/plain": [
       "(torch.Size([32, 64]),\n",
       " torch.Size([32, 64]),\n",
       " torch.Size([1, 64]),\n",
       " torch.Size([32, 64]),\n",
       " torch.Size([1, 64]),\n",
       " torch.Size([32, 64]))"
      ]
     },
     "execution_count": 64,
     "metadata": {},
     "output_type": "execute_result"
    }
   ],
   "source": [
    "bnraw.shape , bndiff.shape , bnvar_inv.shape , bndiff.shape , bnmeani.shape , hprebn.shape"
   ]
  },
  {
   "cell_type": "code",
   "execution_count": null,
   "id": "8f0b152f",
   "metadata": {},
   "outputs": [
    {
     "name": "stdout",
     "output_type": "stream",
     "text": [
      "logprobs        | exact: True  | approximate: True  | maxdiff: 0.0\n"
     ]
    },
    {
     "ename": "RuntimeError",
     "evalue": "The size of tensor a (27) must match the size of tensor b (32) at non-singleton dimension 1",
     "output_type": "error",
     "traceback": [
      "\u001b[1;31m---------------------------------------------------------------------------\u001b[0m",
      "\u001b[1;31mRuntimeError\u001b[0m                              Traceback (most recent call last)",
      "Cell \u001b[1;32mIn[16], line 13\u001b[0m\n\u001b[0;32m     10\u001b[0m \u001b[38;5;66;03m#2)  cmp('probs', dprobs, probs)\u001b[39;00m\n\u001b[0;32m     12\u001b[0m dprobs \u001b[38;5;241m=\u001b[39m torch\u001b[38;5;241m.\u001b[39mzeros_like(probs)\n\u001b[1;32m---> 13\u001b[0m dprobs[\u001b[38;5;28mrange\u001b[39m(n), Yb] \u001b[38;5;241m=\u001b[39m \u001b[43mdlogprobs\u001b[49m\u001b[43m \u001b[49m\u001b[38;5;241;43m*\u001b[39;49m\u001b[43m \u001b[49m\u001b[43m(\u001b[49m\u001b[38;5;241;43m1\u001b[39;49m\u001b[38;5;241;43m/\u001b[39;49m\u001b[43m(\u001b[49m\u001b[43mprobs\u001b[49m\u001b[43m[\u001b[49m\u001b[38;5;28;43mrange\u001b[39;49m\u001b[43m(\u001b[49m\u001b[43mn\u001b[49m\u001b[43m)\u001b[49m\u001b[43m,\u001b[49m\u001b[43m \u001b[49m\u001b[43mYb\u001b[49m\u001b[43m]\u001b[49m\u001b[43m)\u001b[49m\u001b[43m)\u001b[49m \u001b[38;5;66;03m# dL/dprobs = -1/n * (1/(probs))\u001b[39;00m\n\u001b[0;32m     14\u001b[0m \u001b[38;5;66;03m# -1/n is out gradient as in autograd and (1/(probs)) is the local gradient\u001b[39;00m\n\u001b[0;32m     15\u001b[0m cmp(\u001b[38;5;124m'\u001b[39m\u001b[38;5;124mprobs\u001b[39m\u001b[38;5;124m'\u001b[39m, dprobs, probs)\n",
      "\u001b[1;31mRuntimeError\u001b[0m: The size of tensor a (27) must match the size of tensor b (32) at non-singleton dimension 1"
     ]
    }
   ],
   "source": [
    "# Exercise 1: backprop through the whole thing manually, \n",
    "# backpropagating through exactly all of the variables \n",
    "# as they are defined in the forward pass above, one by one\n",
    "\n",
    "# 1) cmp('logprobs', dlogprobs, logprobs)\n",
    "dlogprobs = torch.zeros_like(logprobs)  \n",
    "dlogprobs[range(n), Yb] = -1.0 / n      # dL/dlogprobs = -1/n\n",
    "cmp('logprobs', dlogprobs, logprobs)\n",
    "\n",
    "#2)  cmp('probs', dprobs, probs)\n",
    "\n",
    "dprobs = torch.zeros_like(probs)\n",
    "dprobs[range(n), Yb] = -1/n * (1/(probs[range(n), Yb])) # dL/dprobs = -1/n * (1/(probs))\n",
    "# -1/n is out gradient as in autograd and (1/(probs)) is the local gradient\n",
    "cmp('probs', dprobs, probs)\n",
    "\n",
    "#3 ) cmp('counts_sum_inv', dcounts_sum_inv, counts_sum_inv)\n",
    "\n",
    "# Note : \n",
    "# dcounts_sum_inv is the gradient of loss w.r.t the inverse normalization factor (1 / counts_sum).\n",
    "# Negative value means increasing counts_sum_inv (i.e., decreasing counts_sum) lowers the loss.\n",
    "# Decreasing counts_sum shrinks the softmax denominator, increasing normalized probabilities.\n",
    "# Thus, the loss decreases when the normalization factor grows, boosting the true class probabilities.\n",
    "\n",
    "dcounts_sum_inv = torch.zeros_like(counts_sum_inv)\n",
    "# counts = [32, 27] and dprobs = [32, 27] and counts_sum_inv = [32, 1] so gradient of counts_sum_inv (dcounts_sum_inv) should be [32, 27]\n",
    "dcounts_sum_inv = (counts * dprobs).sum(1, keepdim=True) \n",
    "cmp('counts_sum_inv', dcounts_sum_inv, counts_sum_inv)\n",
    "\n",
    "# 4) cmp('counts_sum', dcounts_sum, counts_sum)\n",
    " \n",
    "dcounts_sum  = torch.zeros_like(counts_sum)\n",
    "dcounts_sum  = - dcounts_sum_inv * (counts_sum**-2)\n",
    "cmp('counts_sum', dcounts_sum, counts_sum)\n",
    "\n",
    "# 5) cmp('counts', dcounts, counts)\n",
    "\n",
    "dcounts = torch.zeros_like(counts)\n",
    "# (Indirect term gradient ) + (Direct term gradient)\n",
    "dcounts = 1 * dcounts_sum  + counts_sum_inv * dprobs\n",
    "cmp('counts', dcounts, counts)\n",
    "\n",
    "# 6) cmp('norm_logits', dnorm_logits, norm_logits)\n",
    "\n",
    "dnorm_logits = dcounts * counts\n",
    "cmp('norm_logits', dnorm_logits, norm_logits)\n",
    "\n",
    "# 7) cmp('logit_maxes', dlogit_maxes, logit_maxes)\n",
    "\n",
    "# only if the maximum logit value changes then the \n",
    "dlogit_maxes = -1 * dnorm_logits.sum(1, keepdim=True) \n",
    "cmp('logit_maxes', dlogit_maxes, logit_maxes)\n",
    "\n",
    "# 8) cmp('logits', dlogits, logits)\n",
    "\n",
    "# Small difference due to floating point precision\n",
    "dlogits  = torch.zeros_like(logits)\n",
    "max_idx = logits.argmax(1, keepdim=True)\n",
    "# Indirect term gradient\n",
    "dlogits[range(n), max_idx] = 1.0 # gradient of the max value is 1 else 0 \n",
    "dlogits *= dlogit_maxes\n",
    "# Now Direct term gradient\n",
    "dlogits += 1 * dnorm_logits\n",
    "cmp('logits', dlogits, logits)\n",
    "\n",
    "# 9) cmp('h', dh, h)\n",
    "# thats the only way we can achieve the shape (see vid derivation for it )\n",
    "dh = torch.zeros_like(h)\n",
    "dh = dlogits @ W2.T\n",
    "cmp('h', dh, h)\n",
    "\n",
    "# 10) cmp('W2', dW2, W2)\n",
    "dW2 = torch.zeros_like(W2)\n",
    "dW2 = h.T @ dlogits\n",
    "cmp('W2', dW2, W2)\n",
    "\n",
    "# 11) cmp('b2', db2, b2)\n",
    "\n",
    "# only way to get b2 shape \n",
    "db2 = torch.zeros_like(b2)\n",
    "db2 = dlogits.sum(0, keepdim=True)\n",
    "cmp('b2', db2, b2)\n",
    "\n",
    "# 12) cmp('hpreact', dhpreact, hpreact)\n",
    "dhpreact = torch.zeros_like(hpreact)\n",
    "dhpreact = (1.0 - h**2 ) * dh\n",
    "cmp('hpreact', dhpreact, hpreact)\n",
    "\n",
    "# 13) cmp('bngain', dbngain, bngain)\n",
    "dbngain = torch.zeros_like(bngain)\n",
    "dbngain = (bnraw * dhpreact).sum(0, keepdim=True)\n",
    "cmp('bngain', dbngain, bngain)\n",
    "\n",
    "# 14) cmp('bnbias', dbnbias, bnbias)\n",
    "dbnbias = (1*dhpreact).sum(0, keepdim=True)\n",
    "cmp('bnbias', dbnbias, bnbias)\n",
    "\n",
    "# 15) cmp('bnraw', dbnraw, bnraw)\n",
    "dbnraw = (bngain * dhpreact) \n",
    "cmp('bnraw', dbnraw, bnraw)\n",
    "\n",
    "# 16) cmp('bnvar_inv', dbnvar_inv, bnvar_inv)\n",
    "dbnvar_inv = (bndiff * dbnraw).sum(0, keepdim=True)\n",
    "cmp('bnvar_inv', dbnvar_inv, bnvar_inv)\n",
    "\n",
    "# 17) cmp('bnvar', dbnvar, bnvar)\n",
    "dbnvar = -0.5 * (bnvar + 1e-5)**(-1.5) * dbnvar_inv\n",
    "cmp('bnvar', dbnvar, bnvar)\n",
    "\n",
    "# 18) cmp('bndiff2', dbndiff2, bndiff2)\n",
    "\n",
    "dbndiff2= 1/(n-1) * dbnvar\n",
    "cmp('bndiff2', dbndiff2, bndiff2)\n",
    "\n",
    "# 19) cmp('bndiff', dbndiff, bndiff)\n",
    "# (Indirect gradient )\n",
    "dbndiff = 2 * bndiff * dbndiff2\n",
    "# (direct gradient )\n",
    "dbndiff += bnvar_inv * dbnraw\n",
    "cmp('bndiff', dbndiff, bndiff)\n",
    "\n",
    "#20) cmp('bnmeani', dbnmeani, bnmeani)\n",
    "dbnmeani = -1 * dbndiff.sum(0, keepdim=True)\n",
    "cmp('bnmeani', dbnmeani, bnmeani)\n",
    "\n",
    "#21) cmp('hprebn', dhprebn, hprebn)\n",
    "\n",
    "# bnmeani = 1/n * hprebn.sum(0, keepdim=True)\n",
    "# hprebn -> [a11 a12\n",
    "#          a21 a22]  \n",
    "\n",
    "#  bnmeani -> [m1 , m2] = 1/n [ a11 + a21   a12 + a22 ]\n",
    "#                           1/n [ 1   1 \n",
    "#                                 1   1 ]\n",
    "\n",
    "# (Indirect gradient )\n",
    "dhprebn = dbndiff.clone() # or just dbndiff\n",
    "# (Direct gradient )\n",
    "dhprebn += (1.0/n) * (torch.ones_like(hprebn) * dbnmeani)\n",
    "cmp('hprebn', dhprebn, hprebn)\n",
    "\n",
    "\n",
    "# 22) cmp('embcat', dembcat, embcat)\n",
    "dembcat = dhprebn @ W1.T\n",
    "cmp('embcat', dembcat, embcat)\n",
    "\n",
    "# 23) cmp('W1', dW1, W1)\n",
    "dW1 = embcat.T @ dhprebn\n",
    "cmp('W1', dW1, W1)\n",
    "\n",
    "# 24) cmp('b1', db1, b1)\n",
    "db1 = dhprebn.sum(0) # as b1.shape is [n_hidden,]\n",
    "cmp('b1', db1, b1)\n",
    "\n",
    "# 25) cmp('emb', demb, emb)\n",
    "demb = dembcat.view(emb.shape) # dembcat is embcat.view(emb.shape)\n",
    "cmp('emb', demb, emb)\n",
    "\n",
    "# 26) cmp('C', dC, C)\n",
    "dC = torch.zeros_like(C)\n",
    "for k in range(Xb.shape[0]):\n",
    "  for j in range(Xb.shape[1]):\n",
    "    ix = Xb[k,j]\n",
    "    dC[ix] += demb[k,j]\n",
    "    \n",
    "# cmp('logprobs', dlogprobs, logprobs)\n",
    "# cmp('probs', dprobs, probs)\n",
    "# cmp('counts_sum_inv', dcounts_sum_inv, counts_sum_inv)\n",
    "# cmp('counts_sum', dcounts_sum, counts_sum)\n",
    "# cmp('counts', dcounts, counts)\n",
    "# cmp('norm_logits', dnorm_logits, norm_logits)\n",
    "# cmp('logit_maxes', dlogit_maxes, logit_maxes)\n",
    "# cmp('logits', dlogits, logits)\n",
    "# cmp('h', dh, h)\n",
    "# cmp('W2', dW2, W2)\n",
    "# cmp('b2', db2, b2)\n",
    "# cmp('hpreact', dhpreact, hpreact)\n",
    "# cmp('bngain', dbngain, bngain)\n",
    "# cmp('bnbias', dbnbias, bnbias)\n",
    "# cmp('bnraw', dbnraw, bnraw)\n",
    "# cmp('bnvar_inv', dbnvar_inv, bnvar_inv)\n",
    "# cmp('bnvar', dbnvar, bnvar)\n",
    "# cmp('bndiff2', dbndiff2, bndiff2)\n",
    "# cmp('bndiff', dbndiff, bndiff)\n",
    "# cmp('bnmeani', dbnmeani, bnmeani)\n",
    "# cmp('hprebn', dhprebn, hprebn)\n",
    "# cmp('embcat', dembcat, embcat)\n",
    "# cmp('W1', dW1, W1)\n",
    "# cmp('b1', db1, b1)\n",
    "# cmp('emb', demb, emb)\n",
    "# cmp('C', dC, C)"
   ]
  },
  {
   "cell_type": "code",
   "execution_count": null,
   "id": "0f4c2ebf",
   "metadata": {},
   "outputs": [
    {
     "data": {
      "text/plain": [
       "torch.Size([32, 3, 10])"
      ]
     },
     "execution_count": 12,
     "metadata": {},
     "output_type": "execute_result"
    }
   ],
   "source": []
  },
  {
   "cell_type": "code",
   "execution_count": 13,
   "id": "f658e32d",
   "metadata": {},
   "outputs": [
    {
     "data": {
      "text/plain": [
       "torch.Size([32, 3, 10])"
      ]
     },
     "execution_count": 13,
     "metadata": {},
     "output_type": "execute_result"
    }
   ],
   "source": [
    "demb.shape"
   ]
  },
  {
   "cell_type": "code",
   "execution_count": null,
   "id": "a581880d",
   "metadata": {},
   "outputs": [],
   "source": []
  }
 ],
 "metadata": {
  "kernelspec": {
   "display_name": "Python 3",
   "language": "python",
   "name": "python3"
  },
  "language_info": {
   "codemirror_mode": {
    "name": "ipython",
    "version": 3
   },
   "file_extension": ".py",
   "mimetype": "text/x-python",
   "name": "python",
   "nbconvert_exporter": "python",
   "pygments_lexer": "ipython3",
   "version": "3.12.2"
  }
 },
 "nbformat": 4,
 "nbformat_minor": 5
}
